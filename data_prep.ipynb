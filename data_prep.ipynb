{
 "cells": [
  {
   "cell_type": "code",
   "execution_count": 1,
   "metadata": {
    "collapsed": true
   },
   "outputs": [],
   "source": [
    "import pandas as pd\n",
    "import numpy as np\n",
    "\n",
    "def first_chunk(filename, chunksize):\n",
    "    chunker = pd.read_csv(filename, chunksize=chunksize)\n",
    "    chunk = next(chunker)\n",
    "    return chunk\n",
    "\n",
    "def memory_cost(df):\n",
    "    memory = df.memory_usage()\n",
    "    result = pd.DataFrame(memory / 1024**2)\n",
    "    result = pd.concat([result, df.dtypes], axis=1)\n",
    "    result.columns = ['MB', 'dtype']\n",
    "    result = result.sort_values(by='MB', ascending=False)\n",
    "    total_mem = result['MB'].sum()\n",
    "    result = result.append(pd.Series({'MB': total_mem}, name='Total'))\n",
    "    return result\n",
    "\n",
    "def range_vals(df):\n",
    "    mins = df.min()\n",
    "    maxes = df.max()\n",
    "    result = pd.concat([maxes, mins], axis=1)\n",
    "    result.columns = ['max', 'min']\n",
    "    return result\n",
    "\n",
    "def count_nulls(df):\n",
    "    result = pd.DataFrame(df.isnull().sum(), columns=['nulls'])\n",
    "    return result"
   ]
  },
  {
   "cell_type": "code",
   "execution_count": 4,
   "metadata": {
    "collapsed": false
   },
   "outputs": [],
   "source": [
    "types = {\n",
    "    'is_auto_renew': np.int8,\n",
    "    'is_cancel': np.int8,\n",
    "    'msno': str,\n",
    "    'payment_method_id': np.int8,\n",
    "    'payment_plan_days': np.int16,\n",
    "    'plan_list_price': np.int16,\n",
    "}\n",
    "date_cols = ['transaction_date', 'membership_expire_date']\n",
    "tx = pd.read_csv('data/transactions.csv', dtype=types, parse_dates=date_cols)"
   ]
  },
  {
   "cell_type": "code",
   "execution_count": 2,
   "metadata": {
    "collapsed": false
   },
   "outputs": [],
   "source": [
    "types = {\n",
    "    'city': np.int8,\n",
    "    'bd': np.int16,\n",
    "    'gender': str,\n",
    "    'msno': str,\n",
    "    'registered_via': np.int8,\n",
    "    'registration_init_time': np.int32,\n",
    "}\n",
    "date_cols = ['transaction_date', 'membership_expire_date']\n",
    "memb = pd.read_csv('data/members_v3.csv', dtype=types)"
   ]
  },
  {
   "cell_type": "code",
   "execution_count": null,
   "metadata": {
    "collapsed": false
   },
   "outputs": [],
   "source": [
    "types = {\n",
    "    'msno': str,\n",
    "    'num_100': np.int16,\n",
    "    'num_25': np.int16,\n",
    "    'num_50': np.int16,\n",
    "    'num_75': np.int16,\n",
    "    'num_985': np.int16,\n",
    "    'num_unq': np.int16,\n",
    "    'total_secs': np.float64\n",
    "}\n",
    "chunksize = 1e6\n",
    "chunker = pd.read_csv('data/user_logs.csv', chunksize=chunksize, dtype=types, parse_dates=['date'])\n",
    "chunk = next(chunker)"
   ]
  },
  {
   "cell_type": "code",
   "execution_count": 5,
   "metadata": {
    "collapsed": false
   },
   "outputs": [],
   "source": [
    "memb.to_feather('feather/members.feather')\n",
    "tx.to_feather('feather/transactions.feather')"
   ]
  }
 ],
 "metadata": {
  "anaconda-cloud": {},
  "kernelspec": {
   "display_name": "Python [conda env:kkbox]",
   "language": "python",
   "name": "conda-env-kkbox-py"
  },
  "language_info": {
   "codemirror_mode": {
    "name": "ipython",
    "version": 3
   },
   "file_extension": ".py",
   "mimetype": "text/x-python",
   "name": "python",
   "nbconvert_exporter": "python",
   "pygments_lexer": "ipython3",
   "version": "3.6.2"
  }
 },
 "nbformat": 4,
 "nbformat_minor": 1
}
