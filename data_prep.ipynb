{
 "cells": [
  {
   "cell_type": "code",
   "execution_count": 3,
   "metadata": {},
   "outputs": [],
   "source": [
    "import pandas as pd\n",
    "import numpy as np\n",
    "import sqlite3\n",
    "import mltools"
   ]
  },
  {
   "cell_type": "code",
   "execution_count": null,
   "metadata": {},
   "outputs": [],
   "source": [
    "types = {\n",
    "    'is_auto_renew': np.int8,\n",
    "    'is_cancel': np.int8,\n",
    "    'msno': str,\n",
    "    'payment_method_id': np.int8,\n",
    "    'payment_plan_days': np.int16,\n",
    "    'plan_list_price': np.int16,\n",
    "}\n",
    "date_cols = ['transaction_date', 'membership_expire_date']\n",
    "tx = pd.read_csv('data/transactions.csv', dtype=types, parse_dates=date_cols)"
   ]
  },
  {
   "cell_type": "code",
   "execution_count": 5,
   "metadata": {},
   "outputs": [],
   "source": [
    "types = {\n",
    "    'city': np.int8,\n",
    "    'bd': np.int16,\n",
    "    'gender': str,\n",
    "    'msno': str,\n",
    "    'registered_via': np.int8,\n",
    "    'registration_init_time': np.int32,\n",
    "}\n",
    "date_cols = ['transaction_date', 'membership_expire_date']\n",
    "memb = pd.read_csv('data/members_v3.csv', dtype=types)"
   ]
  },
  {
   "cell_type": "code",
   "execution_count": null,
   "metadata": {},
   "outputs": [],
   "source": [
    "mltools.range_vals(memb)"
   ]
  },
  {
   "cell_type": "code",
   "execution_count": 14,
   "metadata": {},
   "outputs": [],
   "source": [
    "types = {\n",
    "    'msno': str,\n",
    "    'num_100': np.int16,\n",
    "    'num_25': np.int16,\n",
    "    'num_50': np.int16,\n",
    "    'num_75': np.int16,\n",
    "    'num_985': np.int16,\n",
    "    'num_unq': np.int16,\n",
    "    'total_secs': np.float64\n",
    "}\n",
    "chunksize = 1e8\n",
    "chunker, first = chunkify('data/user_logs.csv', chunksize=chunksize, dtype=types, parse_dates=['date'])"
   ]
  },
  {
   "cell_type": "code",
   "execution_count": 27,
   "metadata": {},
   "outputs": [],
   "source": [
    "memb.to_feather('feather/members.feather')\n",
    "tx.to_feather('feather/transactions.feather')"
   ]
  }
 ],
 "metadata": {
  "anaconda-cloud": {},
  "kernelspec": {
   "display_name": "Python [conda env:kkbox]",
   "language": "python",
   "name": "conda-env-kkbox-py"
  },
  "language_info": {
   "codemirror_mode": {
    "name": "ipython",
    "version": 3
   },
   "file_extension": ".py",
   "mimetype": "text/x-python",
   "name": "python",
   "nbconvert_exporter": "python",
   "pygments_lexer": "ipython3",
   "version": "3.6.2"
  }
 },
 "nbformat": 4,
 "nbformat_minor": 1
}
